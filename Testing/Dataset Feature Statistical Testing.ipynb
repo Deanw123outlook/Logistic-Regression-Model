{
 "cells": [
  {
   "cell_type": "markdown",
   "metadata": {},
   "source": [
    "### Dataset Feature Statistical Testing "
   ]
  },
  {
   "cell_type": "code",
   "execution_count": 1,
   "metadata": {},
   "outputs": [
    {
     "name": "stdout",
     "output_type": "stream",
     "text": [
      "<class 'pandas.core.frame.DataFrame'>\n",
      "RangeIndex: 5110 entries, 0 to 5109\n",
      "Data columns (total 11 columns):\n",
      " #   Column                 Non-Null Count  Dtype  \n",
      "---  ------                 --------------  -----  \n",
      " 0   Gender                 5110 non-null   object \n",
      " 1   Age                    5110 non-null   int32  \n",
      " 2   Hypertension           5110 non-null   object \n",
      " 3   Heart Disease          5110 non-null   object \n",
      " 4   Marriage Status        5110 non-null   object \n",
      " 5   Work Type              5110 non-null   object \n",
      " 6   Residence Type         5110 non-null   object \n",
      " 7   Average Glucose Level  5110 non-null   float64\n",
      " 8   Body Mass Index        5110 non-null   float64\n",
      " 9   Smoking Status         5110 non-null   object \n",
      " 10  Stroke                 5110 non-null   object \n",
      "dtypes: float64(2), int32(1), object(8)\n",
      "memory usage: 419.3+ KB\n"
     ]
    },
    {
     "data": {
      "text/html": [
       "<div>\n",
       "<style scoped>\n",
       "    .dataframe tbody tr th:only-of-type {\n",
       "        vertical-align: middle;\n",
       "    }\n",
       "\n",
       "    .dataframe tbody tr th {\n",
       "        vertical-align: top;\n",
       "    }\n",
       "\n",
       "    .dataframe thead th {\n",
       "        text-align: right;\n",
       "    }\n",
       "</style>\n",
       "<table border=\"1\" class=\"dataframe\">\n",
       "  <thead>\n",
       "    <tr style=\"text-align: right;\">\n",
       "      <th></th>\n",
       "      <th>Gender</th>\n",
       "      <th>Age</th>\n",
       "      <th>Hypertension</th>\n",
       "      <th>Heart Disease</th>\n",
       "      <th>Marriage Status</th>\n",
       "      <th>Work Type</th>\n",
       "      <th>Residence Type</th>\n",
       "      <th>Average Glucose Level</th>\n",
       "      <th>Body Mass Index</th>\n",
       "      <th>Smoking Status</th>\n",
       "      <th>Stroke</th>\n",
       "    </tr>\n",
       "  </thead>\n",
       "  <tbody>\n",
       "    <tr>\n",
       "      <th>0</th>\n",
       "      <td>Male</td>\n",
       "      <td>67</td>\n",
       "      <td>0</td>\n",
       "      <td>1</td>\n",
       "      <td>Yes</td>\n",
       "      <td>Private</td>\n",
       "      <td>Urban</td>\n",
       "      <td>228.69</td>\n",
       "      <td>36.6</td>\n",
       "      <td>formerly smoked</td>\n",
       "      <td>1</td>\n",
       "    </tr>\n",
       "    <tr>\n",
       "      <th>1</th>\n",
       "      <td>Female</td>\n",
       "      <td>61</td>\n",
       "      <td>0</td>\n",
       "      <td>0</td>\n",
       "      <td>Yes</td>\n",
       "      <td>Self-employed</td>\n",
       "      <td>Rural</td>\n",
       "      <td>202.21</td>\n",
       "      <td>28.9</td>\n",
       "      <td>never smoked</td>\n",
       "      <td>1</td>\n",
       "    </tr>\n",
       "    <tr>\n",
       "      <th>2</th>\n",
       "      <td>Male</td>\n",
       "      <td>80</td>\n",
       "      <td>0</td>\n",
       "      <td>1</td>\n",
       "      <td>Yes</td>\n",
       "      <td>Private</td>\n",
       "      <td>Rural</td>\n",
       "      <td>105.92</td>\n",
       "      <td>32.5</td>\n",
       "      <td>never smoked</td>\n",
       "      <td>1</td>\n",
       "    </tr>\n",
       "    <tr>\n",
       "      <th>3</th>\n",
       "      <td>Female</td>\n",
       "      <td>49</td>\n",
       "      <td>0</td>\n",
       "      <td>0</td>\n",
       "      <td>Yes</td>\n",
       "      <td>Private</td>\n",
       "      <td>Urban</td>\n",
       "      <td>171.23</td>\n",
       "      <td>34.4</td>\n",
       "      <td>smokes</td>\n",
       "      <td>1</td>\n",
       "    </tr>\n",
       "    <tr>\n",
       "      <th>4</th>\n",
       "      <td>Female</td>\n",
       "      <td>79</td>\n",
       "      <td>1</td>\n",
       "      <td>0</td>\n",
       "      <td>Yes</td>\n",
       "      <td>Self-employed</td>\n",
       "      <td>Rural</td>\n",
       "      <td>174.12</td>\n",
       "      <td>24.0</td>\n",
       "      <td>never smoked</td>\n",
       "      <td>1</td>\n",
       "    </tr>\n",
       "  </tbody>\n",
       "</table>\n",
       "</div>"
      ],
      "text/plain": [
       "   Gender  Age Hypertension Heart Disease Marriage Status      Work Type  \\\n",
       "0    Male   67            0             1             Yes        Private   \n",
       "1  Female   61            0             0             Yes  Self-employed   \n",
       "2    Male   80            0             1             Yes        Private   \n",
       "3  Female   49            0             0             Yes        Private   \n",
       "4  Female   79            1             0             Yes  Self-employed   \n",
       "\n",
       "  Residence Type  Average Glucose Level  Body Mass Index   Smoking Status  \\\n",
       "0          Urban                 228.69             36.6  formerly smoked   \n",
       "1          Rural                 202.21             28.9     never smoked   \n",
       "2          Rural                 105.92             32.5     never smoked   \n",
       "3          Urban                 171.23             34.4           smokes   \n",
       "4          Rural                 174.12             24.0     never smoked   \n",
       "\n",
       "  Stroke  \n",
       "0      1  \n",
       "1      1  \n",
       "2      1  \n",
       "3      1  \n",
       "4      1  "
      ]
     },
     "metadata": {},
     "output_type": "display_data"
    },
    {
     "data": {
      "text/plain": [
       "(5110, 11)"
      ]
     },
     "metadata": {},
     "output_type": "display_data"
    },
    {
     "data": {
      "text/plain": [
       "None"
      ]
     },
     "metadata": {},
     "output_type": "display_data"
    },
    {
     "data": {
      "text/html": [
       "<div>\n",
       "<style scoped>\n",
       "    .dataframe tbody tr th:only-of-type {\n",
       "        vertical-align: middle;\n",
       "    }\n",
       "\n",
       "    .dataframe tbody tr th {\n",
       "        vertical-align: top;\n",
       "    }\n",
       "\n",
       "    .dataframe thead th {\n",
       "        text-align: right;\n",
       "    }\n",
       "</style>\n",
       "<table border=\"1\" class=\"dataframe\">\n",
       "  <thead>\n",
       "    <tr style=\"text-align: right;\">\n",
       "      <th></th>\n",
       "      <th>Age</th>\n",
       "      <th>Average Glucose Level</th>\n",
       "      <th>Body Mass Index</th>\n",
       "    </tr>\n",
       "  </thead>\n",
       "  <tbody>\n",
       "    <tr>\n",
       "      <th>count</th>\n",
       "      <td>5110.000000</td>\n",
       "      <td>5110.000000</td>\n",
       "      <td>5110.000000</td>\n",
       "    </tr>\n",
       "    <tr>\n",
       "      <th>mean</th>\n",
       "      <td>43.215264</td>\n",
       "      <td>106.147677</td>\n",
       "      <td>28.893503</td>\n",
       "    </tr>\n",
       "    <tr>\n",
       "      <th>std</th>\n",
       "      <td>22.633866</td>\n",
       "      <td>45.283560</td>\n",
       "      <td>7.698018</td>\n",
       "    </tr>\n",
       "    <tr>\n",
       "      <th>min</th>\n",
       "      <td>0.000000</td>\n",
       "      <td>55.120000</td>\n",
       "      <td>10.300000</td>\n",
       "    </tr>\n",
       "    <tr>\n",
       "      <th>25%</th>\n",
       "      <td>25.000000</td>\n",
       "      <td>77.245000</td>\n",
       "      <td>23.800000</td>\n",
       "    </tr>\n",
       "    <tr>\n",
       "      <th>50%</th>\n",
       "      <td>45.000000</td>\n",
       "      <td>91.885000</td>\n",
       "      <td>28.400000</td>\n",
       "    </tr>\n",
       "    <tr>\n",
       "      <th>75%</th>\n",
       "      <td>61.000000</td>\n",
       "      <td>114.090000</td>\n",
       "      <td>32.800000</td>\n",
       "    </tr>\n",
       "    <tr>\n",
       "      <th>max</th>\n",
       "      <td>82.000000</td>\n",
       "      <td>271.740000</td>\n",
       "      <td>97.600000</td>\n",
       "    </tr>\n",
       "  </tbody>\n",
       "</table>\n",
       "</div>"
      ],
      "text/plain": [
       "               Age  Average Glucose Level  Body Mass Index\n",
       "count  5110.000000            5110.000000      5110.000000\n",
       "mean     43.215264             106.147677        28.893503\n",
       "std      22.633866              45.283560         7.698018\n",
       "min       0.000000              55.120000        10.300000\n",
       "25%      25.000000              77.245000        23.800000\n",
       "50%      45.000000              91.885000        28.400000\n",
       "75%      61.000000             114.090000        32.800000\n",
       "max      82.000000             271.740000        97.600000"
      ]
     },
     "metadata": {},
     "output_type": "display_data"
    },
    {
     "data": {
      "text/html": [
       "<div>\n",
       "<style scoped>\n",
       "    .dataframe tbody tr th:only-of-type {\n",
       "        vertical-align: middle;\n",
       "    }\n",
       "\n",
       "    .dataframe tbody tr th {\n",
       "        vertical-align: top;\n",
       "    }\n",
       "\n",
       "    .dataframe thead th {\n",
       "        text-align: right;\n",
       "    }\n",
       "</style>\n",
       "<table border=\"1\" class=\"dataframe\">\n",
       "  <thead>\n",
       "    <tr style=\"text-align: right;\">\n",
       "      <th></th>\n",
       "      <th>Gender</th>\n",
       "      <th>Hypertension</th>\n",
       "      <th>Heart Disease</th>\n",
       "      <th>Marriage Status</th>\n",
       "      <th>Work Type</th>\n",
       "      <th>Residence Type</th>\n",
       "      <th>Smoking Status</th>\n",
       "      <th>Stroke</th>\n",
       "    </tr>\n",
       "  </thead>\n",
       "  <tbody>\n",
       "    <tr>\n",
       "      <th>count</th>\n",
       "      <td>5110</td>\n",
       "      <td>5110</td>\n",
       "      <td>5110</td>\n",
       "      <td>5110</td>\n",
       "      <td>5110</td>\n",
       "      <td>5110</td>\n",
       "      <td>5110</td>\n",
       "      <td>5110</td>\n",
       "    </tr>\n",
       "    <tr>\n",
       "      <th>unique</th>\n",
       "      <td>3</td>\n",
       "      <td>2</td>\n",
       "      <td>2</td>\n",
       "      <td>2</td>\n",
       "      <td>5</td>\n",
       "      <td>2</td>\n",
       "      <td>4</td>\n",
       "      <td>2</td>\n",
       "    </tr>\n",
       "    <tr>\n",
       "      <th>top</th>\n",
       "      <td>Female</td>\n",
       "      <td>0</td>\n",
       "      <td>0</td>\n",
       "      <td>Yes</td>\n",
       "      <td>Private</td>\n",
       "      <td>Urban</td>\n",
       "      <td>never smoked</td>\n",
       "      <td>0</td>\n",
       "    </tr>\n",
       "    <tr>\n",
       "      <th>freq</th>\n",
       "      <td>2994</td>\n",
       "      <td>4612</td>\n",
       "      <td>4834</td>\n",
       "      <td>3353</td>\n",
       "      <td>2925</td>\n",
       "      <td>2596</td>\n",
       "      <td>1892</td>\n",
       "      <td>4861</td>\n",
       "    </tr>\n",
       "  </tbody>\n",
       "</table>\n",
       "</div>"
      ],
      "text/plain": [
       "        Gender  Hypertension  Heart Disease Marriage Status Work Type  \\\n",
       "count     5110          5110           5110            5110      5110   \n",
       "unique       3             2              2               2         5   \n",
       "top     Female             0              0             Yes   Private   \n",
       "freq      2994          4612           4834            3353      2925   \n",
       "\n",
       "       Residence Type Smoking Status  Stroke  \n",
       "count            5110           5110    5110  \n",
       "unique              2              4       2  \n",
       "top             Urban   never smoked       0  \n",
       "freq             2596           1892    4861  "
      ]
     },
     "metadata": {},
     "output_type": "display_data"
    }
   ],
   "source": [
    "import numpy as np\n",
    "import pandas as pd\n",
    "import matplotlib.pyplot as plt\n",
    "import seaborn as sns\n",
    "#import CSV file as pandas data frame \n",
    "data = pd.read_csv('healthcare-dataset-stroke-data.csv')\n",
    "#Create copy of orginal Dataframe\n",
    "data_original = data.copy(deep = True)\n",
    "#rename columns\n",
    "data = data.rename(columns = {'id':'Identification Number','gender':'Gender','age':'Age',\n",
    "                              'hypertension':'Hypertension','heart_disease':'Heart Disease', \n",
    "                              'ever_married':'Marriage Status','work_type':'Work Type','Residence_type':'Residence Type',\n",
    "                             'avg_glucose_level':'Average Glucose Level','bmi':'Body Mass Index',\n",
    "                              'smoking_status':'Smoking Status','stroke':'Stroke'})\n",
    "#data type conversions\n",
    "data['Age'] = data['Age'].astype('int')\n",
    "data['Hypertension'] = data['Hypertension'].astype('object')\n",
    "data['Stroke'] = data['Stroke'].astype('object')\n",
    "data['Heart Disease'] = data['Heart Disease'].astype('object')\n",
    "# Replace the missing values with mean of bmi attribute\n",
    "data['Body Mass Index'].fillna(np.round(data['Body Mass Index'].mean(), 1), inplace = True)\n",
    "# Deleting attribute (high cardinality)\n",
    "data.drop(['Identification Number'], axis = 1, inplace = True)\n",
    "#dataset head, shape, info, summary statisitcs\n",
    "display(data.head(), data.shape, data.info(), data.describe(), data.describe(include=object))"
   ]
  },
  {
   "cell_type": "markdown",
   "metadata": {},
   "source": [
    "##### Analysing Numerical Distributions (Indepedent Variables)"
   ]
  },
  {
   "cell_type": "code",
   "execution_count": 3,
   "metadata": {},
   "outputs": [
    {
     "data": {
      "image/png": "[encoded data removed]",
      "text/plain": [
       "<Figure size 432x288 with 1 Axes>"
      ]
     },
     "metadata": {},
     "output_type": "display_data"
    },
    {
     "data": {
      "text/plain": [
       "None"
      ]
     },
     "metadata": {},
     "output_type": "display_data"
    },
    {
     "data": {
      "text/plain": [
       "count    5110.000000\n",
       "mean       43.215264\n",
       "std        22.633866\n",
       "min         0.000000\n",
       "25%        25.000000\n",
       "50%        45.000000\n",
       "75%        61.000000\n",
       "max        82.000000\n",
       "Name: Age, dtype: float64"
      ]
     },
     "metadata": {},
     "output_type": "display_data"
    }
   ],
   "source": [
    "#Kernel density plot\n",
    "sns.distplot(data['Age'], kde = True, hist = False, color = 'b')\n",
    "sns.set_style('darkgrid')\n",
    "display(plt.show(), data['Age'].describe())"
   ]
  },
  {
   "cell_type": "markdown",
   "metadata": {},
   "source": [
    "###### Shapiro-Wilk Test\n",
    "Tests whether a data sample has a Gaussian distribution.\n",
    "\n",
    "Assumptions:\n",
    "- Observations in each sample are independent and identically distributed (iid).\n",
    "\n",
    "Interpretation:\n",
    "- H0: the sample has a Gaussian distribution.\n",
    "- H1: the sample does not have a Gaussian distribution."
   ]
  },
  {
   "cell_type": "code",
   "execution_count": 44,
   "metadata": {},
   "outputs": [
    {
     "name": "stdout",
     "output_type": "stream",
     "text": [
      "stat=0.968, p=0.000\n",
      "Age variable probable not to follow a Gaussian Distribution\n"
     ]
    }
   ],
   "source": [
    "#Interpretation\n",
    "#H0: the sample has a Gaussian distribution.\n",
    "#H1: the sample does not have a Gaussian distribution.\n",
    "\n",
    "from scipy.stats import shapiro\n",
    "test_1 = data['Age']\n",
    "stat, p = shapiro(test_1)\n",
    "print('stat=%.3f, p=%.3f' % (stat, p))\n",
    "if p > 0.05:\n",
    "\tprint('Age variable probable to follow a Gaussian DIstribution')\n",
    "else:\n",
    "\tprint('Age variable probable not to follow a Gaussian Distribution')"
   ]
  },
  {
   "cell_type": "code",
   "execution_count": 5,
   "metadata": {},
   "outputs": [
    {
     "data": {
      "image/png": "[encoded data removed]",
      "text/plain": [
       "<Figure size 432x288 with 1 Axes>"
      ]
     },
     "metadata": {},
     "output_type": "display_data"
    },
    {
     "data": {
      "text/plain": [
       "None"
      ]
     },
     "metadata": {},
     "output_type": "display_data"
    },
    {
     "data": {
      "text/plain": [
       "count    5110.000000\n",
       "mean       28.893503\n",
       "std         7.698018\n",
       "min        10.300000\n",
       "25%        23.800000\n",
       "50%        28.400000\n",
       "75%        32.800000\n",
       "max        97.600000\n",
       "Name: Body Mass Index, dtype: float64"
      ]
     },
     "metadata": {},
     "output_type": "display_data"
    }
   ],
   "source": [
    "#Kernel density plot\n",
    "sns.distplot(data['Body Mass Index'], kde = True, hist = False, color = 'b')\n",
    "sns.set_style('darkgrid')\n",
    "display(plt.show(), data['Body Mass Index'].describe())"
   ]
  },
  {
   "cell_type": "code",
   "execution_count": 48,
   "metadata": {},
   "outputs": [
    {
     "name": "stdout",
     "output_type": "stream",
     "text": [
      "stat=0.952, p=0.000\n",
      "Body Mass Index variable probable not to follow a Gaussian Distribution\n"
     ]
    }
   ],
   "source": [
    "#Interpretation\n",
    "#H0: the sample has a Gaussian distribution.\n",
    "#H1: the sample does not have a Gaussian distribution.\n",
    "\n",
    "from scipy.stats import shapiro\n",
    "test_2 = data['Body Mass Index']\n",
    "stat, p = shapiro(test_2)\n",
    "print('stat=%.3f, p=%.3f' % (stat, p))\n",
    "if p > 0.05:\n",
    "\tprint('Body Mass Index variable probable to follow a Gaussian DIstribution')\n",
    "else:\n",
    "\tprint('Body Mass Index variable probable not to follow a Gaussian Distribution')"
   ]
  },
  {
   "cell_type": "code",
   "execution_count": 6,
   "metadata": {},
   "outputs": [
    {
     "data": {
      "image/png": "[encoded data removed]",
      "text/plain": [
       "<Figure size 432x288 with 1 Axes>"
      ]
     },
     "metadata": {},
     "output_type": "display_data"
    },
    {
     "data": {
      "text/plain": [
       "None"
      ]
     },
     "metadata": {},
     "output_type": "display_data"
    },
    {
     "data": {
      "text/plain": [
       "count    5110.000000\n",
       "mean      106.147677\n",
       "std        45.283560\n",
       "min        55.120000\n",
       "25%        77.245000\n",
       "50%        91.885000\n",
       "75%       114.090000\n",
       "max       271.740000\n",
       "Name: Average Glucose Level, dtype: float64"
      ]
     },
     "metadata": {},
     "output_type": "display_data"
    }
   ],
   "source": [
    "#Kernel density plot\n",
    "sns.distplot(data['Average Glucose Level'], kde = True, hist = False, color = 'b')\n",
    "sns.set_style('darkgrid')\n",
    "display(plt.show(), data['Average Glucose Level'].describe())"
   ]
  },
  {
   "cell_type": "code",
   "execution_count": 49,
   "metadata": {},
   "outputs": [
    {
     "name": "stdout",
     "output_type": "stream",
     "text": [
      "stat=0.806, p=0.000\n",
      "Average Glucose Level variable probable not to follow a Gaussian Distribution\n"
     ]
    }
   ],
   "source": [
    "#Interpretation\n",
    "#H0: the sample has a Gaussian distribution.\n",
    "#H1: the sample does not have a Gaussian distribution.\n",
    "\n",
    "from scipy.stats import shapiro\n",
    "test_3 = data['Average Glucose Level']\n",
    "stat, p = shapiro(test_3)\n",
    "print('stat=%.3f, p=%.3f' % (stat, p))\n",
    "if p > 0.05:\n",
    "\tprint('Average Glucose Level variable probable to follow a Gaussian DIstribution')\n",
    "else:\n",
    "\tprint('Average Glucose Level variable probable not to follow a Gaussian Distribution')"
   ]
  },
  {
   "cell_type": "markdown",
   "metadata": {},
   "source": [
    "##### Correlation Analysis (Independent Variables)\n",
    "Pearson’s Correlation Coefficient\n",
    "Tests whether two samples have a linear relationship."
   ]
  },
  {
   "cell_type": "code",
   "execution_count": 7,
   "metadata": {},
   "outputs": [
    {
     "data": {
      "text/html": [
       "<div>\n",
       "<style scoped>\n",
       "    .dataframe tbody tr th:only-of-type {\n",
       "        vertical-align: middle;\n",
       "    }\n",
       "\n",
       "    .dataframe tbody tr th {\n",
       "        vertical-align: top;\n",
       "    }\n",
       "\n",
       "    .dataframe thead th {\n",
       "        text-align: right;\n",
       "    }\n",
       "</style>\n",
       "<table border=\"1\" class=\"dataframe\">\n",
       "  <thead>\n",
       "    <tr style=\"text-align: right;\">\n",
       "      <th></th>\n",
       "      <th>Age</th>\n",
       "      <th>Average Glucose Level</th>\n",
       "      <th>Body Mass Index</th>\n",
       "    </tr>\n",
       "  </thead>\n",
       "  <tbody>\n",
       "    <tr>\n",
       "      <th>Age</th>\n",
       "      <td>1.000000</td>\n",
       "      <td>0.238060</td>\n",
       "      <td>0.326284</td>\n",
       "    </tr>\n",
       "    <tr>\n",
       "      <th>Average Glucose Level</th>\n",
       "      <td>0.238060</td>\n",
       "      <td>1.000000</td>\n",
       "      <td>0.168767</td>\n",
       "    </tr>\n",
       "    <tr>\n",
       "      <th>Body Mass Index</th>\n",
       "      <td>0.326284</td>\n",
       "      <td>0.168767</td>\n",
       "      <td>1.000000</td>\n",
       "    </tr>\n",
       "  </tbody>\n",
       "</table>\n",
       "</div>"
      ],
      "text/plain": [
       "                            Age  Average Glucose Level  Body Mass Index\n",
       "Age                    1.000000               0.238060         0.326284\n",
       "Average Glucose Level  0.238060               1.000000         0.168767\n",
       "Body Mass Index        0.326284               0.168767         1.000000"
      ]
     },
     "execution_count": 7,
     "metadata": {},
     "output_type": "execute_result"
    }
   ],
   "source": [
    "#Compute Pearsons R Correlation\n",
    "correlation = data.corr()\n",
    "correlation"
   ]
  },
  {
   "cell_type": "markdown",
   "metadata": {},
   "source": [
    "##### Analysing  Distribution (Dependent Variable)"
   ]
  },
  {
   "cell_type": "code",
   "execution_count": 8,
   "metadata": {},
   "outputs": [
    {
     "data": {
      "image/png": "[encoded data removed]",
      "text/plain": [
       "<Figure size 432x288 with 1 Axes>"
      ]
     },
     "metadata": {},
     "output_type": "display_data"
    }
   ],
   "source": [
    "#scatterplot\n",
    "sns.scatterplot(x = 'Age', y = 'Heart Disease', color = 'r', data = data)\n",
    "plt.show()"
   ]
  },
  {
   "cell_type": "markdown",
   "metadata": {},
   "source": [
    "Confirming through visualization our indepedent variable meets the binary (dichotomous) condition for Logisitic Regression."
   ]
  },
  {
   "cell_type": "markdown",
   "metadata": {},
   "source": [
    "### Analysing Categorical Variables"
   ]
  },
  {
   "cell_type": "markdown",
   "metadata": {},
   "source": [
    "###### Chi-Squared Test\n",
    "Tests whether two categorical variables are related or independent.\n",
    "\n",
    "Assumptions:\n",
    "- Observations used in the calculation of the contingency table are independent.\n",
    "- 25 or more examples in each cell of the contingency table.\n",
    "\n",
    "Test Result Interpretation\n",
    "- H0: the two samples are independent.\n",
    "- H1: there is a dependency between the samples."
   ]
  },
  {
   "cell_type": "markdown",
   "metadata": {},
   "source": [
    "###### GENDER"
   ]
  },
  {
   "cell_type": "code",
   "execution_count": 13,
   "metadata": {},
   "outputs": [
    {
     "name": "stdout",
     "output_type": "stream",
     "text": [
      "stat=6.559, p=0.038\n",
      "Gender and Marriage Status Probable Dependent\n"
     ]
    }
   ],
   "source": [
    "#import chi-square test\n",
    "from scipy.stats import chi2_contingency\n",
    "\n",
    "#create crosstab (testing)\n",
    "crosstab_1 = pd.crosstab(data['Gender'], data['Marriage Status'])\n",
    "#perfrom chi - square test\n",
    "stat, p, dof, expected = chi2_contingency(crosstab_1)\n",
    "print('stat=%.3f, p=%.3f' % (stat, p))\n",
    "if p > 0.05:\n",
    "    print('Gender and Marriage Status Probable Independent')\n",
    "else:\n",
    "    print('Gender and Marriage Status Probable Dependent')"
   ]
  },
  {
   "cell_type": "code",
   "execution_count": 14,
   "metadata": {},
   "outputs": [
    {
     "name": "stdout",
     "output_type": "stream",
     "text": [
      "stat=2.410, p=0.300\n",
      "Gender and Hypertension Probable Independent\n"
     ]
    }
   ],
   "source": [
    "#create crosstab (testing)\n",
    "crosstab_2 = pd.crosstab(data['Gender'], data['Hypertension'])\n",
    "#perfrom chi - square test\n",
    "stat, p, dof, expected = chi2_contingency(crosstab_2)\n",
    "print('stat=%.3f, p=%.3f' % (stat, p))\n",
    "if p > 0.05:\n",
    "    print('Gender and Hypertension Probable Independent')\n",
    "else:\n",
    "    print('Gender and Hypertension Probable Dependent')"
   ]
  },
  {
   "cell_type": "code",
   "execution_count": 15,
   "metadata": {},
   "outputs": [
    {
     "name": "stdout",
     "output_type": "stream",
     "text": [
      "stat=43.075, p=0.000\n",
      "Gender and Work Type Probable Dependent\n"
     ]
    }
   ],
   "source": [
    "#create crosstab (testing)\n",
    "crosstab_3 = pd.crosstab(data['Gender'], data['Work Type'])\n",
    "#perfrom chi - square test\n",
    "stat, p, dof, expected = chi2_contingency(crosstab_3)\n",
    "print('stat=%.3f, p=%.3f' % (stat, p))\n",
    "if p > 0.05:\n",
    "    print('Gender and Work Type Probable Independent')\n",
    "else:\n",
    "    print('Gender and Work Type Probable Dependent')"
   ]
  },
  {
   "cell_type": "code",
   "execution_count": 16,
   "metadata": {},
   "outputs": [
    {
     "name": "stdout",
     "output_type": "stream",
     "text": [
      "stat=1.223, p=0.542\n",
      "Gender and Residence Type Probable Independent\n"
     ]
    }
   ],
   "source": [
    "#create crosstab (testing)\n",
    "crosstab_4 = pd.crosstab(data['Gender'], data['Residence Type'])\n",
    "#perfrom chi - square test\n",
    "stat, p, dof, expected = chi2_contingency(crosstab_4)\n",
    "print('stat=%.3f, p=%.3f' % (stat, p))\n",
    "if p > 0.05:\n",
    "    print('Gender and Residence Type Probable Independent')\n",
    "else:\n",
    "    print('Gender and Residence Type Probable Dependent')"
   ]
  },
  {
   "cell_type": "code",
   "execution_count": 19,
   "metadata": {},
   "outputs": [
    {
     "name": "stdout",
     "output_type": "stream",
     "text": [
      "stat=57.338, p=0.000\n",
      "Gender and Smoking Status Probable Dependent\n"
     ]
    }
   ],
   "source": [
    "#create crosstab (testing)\n",
    "crosstab_5 = pd.crosstab(data['Gender'], data['Smoking Status'])\n",
    "#perfrom chi - square test\n",
    "stat, p, dof, expected = chi2_contingency(crosstab_5)\n",
    "print('stat=%.3f, p=%.3f' % (stat, p))\n",
    "if p > 0.05:\n",
    "    print('Gender and Smoking Status Probable Independent')\n",
    "else:\n",
    "    print('Gender and Smoking Status Probable Dependent')"
   ]
  },
  {
   "cell_type": "code",
   "execution_count": 20,
   "metadata": {},
   "outputs": [
    {
     "name": "stdout",
     "output_type": "stream",
     "text": [
      "stat=0.473, p=0.790\n",
      "Gender and Stroke Probable Independent\n"
     ]
    }
   ],
   "source": [
    "#create crosstab (testing)\n",
    "crosstab_6 = pd.crosstab(data['Gender'], data['Stroke'])\n",
    "#perfrom chi - square test\n",
    "stat, p, dof, expected = chi2_contingency(crosstab_6)\n",
    "print('stat=%.3f, p=%.3f' % (stat, p))\n",
    "if p > 0.05:\n",
    "    print('Gender and Stroke Probable Independent')\n",
    "else:\n",
    "    print('Gender and Stroke Probable Dependent')"
   ]
  },
  {
   "cell_type": "markdown",
   "metadata": {},
   "source": [
    "##### Marriage Status"
   ]
  },
  {
   "cell_type": "code",
   "execution_count": 21,
   "metadata": {},
   "outputs": [
    {
     "name": "stdout",
     "output_type": "stream",
     "text": [
      "stat=136.683, p=0.000\n",
      "Marriage Status and Hypertension Probable Dependent\n"
     ]
    }
   ],
   "source": [
    "#create crosstab (testing)\n",
    "crosstab_2a = pd.crosstab(data['Marriage Status'], data['Hypertension'])\n",
    "#perfrom chi - square test\n",
    "stat, p, dof, expected = chi2_contingency(crosstab_2a)\n",
    "print('stat=%.3f, p=%.3f' % (stat, p))\n",
    "if p > 0.05:\n",
    "    print('Marriage Status and Hypertension Probable Independent')\n",
    "else:\n",
    "    print('Marriage Status and Hypertension Probable Dependent')"
   ]
  },
  {
   "cell_type": "code",
   "execution_count": 27,
   "metadata": {},
   "outputs": [
    {
     "name": "stdout",
     "output_type": "stream",
     "text": [
      "stat=1644.109, p=0.000\n",
      "Marriage Status and Work Type Probable Dependent\n"
     ]
    }
   ],
   "source": [
    "#create crosstab (testing)\n",
    "crosstab_3b = pd.crosstab(data['Marriage Status'], data['Work Type'])\n",
    "#perfrom chi - square test\n",
    "stat, p, dof, expected = chi2_contingency(crosstab_3b)\n",
    "print('stat=%.3f, p=%.3f' % (stat, p))\n",
    "if p > 0.05:\n",
    "    print('Marriage Status and Work Type Probable Independent')\n",
    "else:\n",
    "    print('Marriage Status and Work Type Probable Dependent')"
   ]
  },
  {
   "cell_type": "code",
   "execution_count": 28,
   "metadata": {},
   "outputs": [
    {
     "name": "stdout",
     "output_type": "stream",
     "text": [
      "stat=0.175, p=0.676\n",
      "Marriage Status and Residence Type Probable Independent\n"
     ]
    }
   ],
   "source": [
    "#create crosstab (testing)\n",
    "crosstab_4b = pd.crosstab(data['Marriage Status'], data['Residence Type'])\n",
    "#perfrom chi - square test\n",
    "stat, p, dof, expected = chi2_contingency(crosstab_4b)\n",
    "print('stat=%.3f, p=%.3f' % (stat, p))\n",
    "if p > 0.05:\n",
    "    print('Marriage Status and Residence Type Probable Independent')\n",
    "else:\n",
    "    print('Marriage Status and Residence Type Probable Dependent')"
   ]
  },
  {
   "cell_type": "code",
   "execution_count": 29,
   "metadata": {},
   "outputs": [
    {
     "name": "stdout",
     "output_type": "stream",
     "text": [
      "stat=599.046, p=0.000\n",
      "Marriage Status and Smoking Status Probable Dependent\n"
     ]
    }
   ],
   "source": [
    "#create crosstab (testing)\n",
    "crosstab_5b = pd.crosstab(data['Marriage Status'], data['Smoking Status'])\n",
    "#perfrom chi - square test\n",
    "stat, p, dof, expected = chi2_contingency(crosstab_5b)\n",
    "print('stat=%.3f, p=%.3f' % (stat, p))\n",
    "if p > 0.05:\n",
    "    print('Marriage Status and Smoking Status Probable Independent')\n",
    "else:\n",
    "    print('Marriage Status and Smoking Status Probable Dependent')"
   ]
  },
  {
   "cell_type": "code",
   "execution_count": 30,
   "metadata": {},
   "outputs": [
    {
     "name": "stdout",
     "output_type": "stream",
     "text": [
      "stat=58.924, p=0.000\n",
      "Marriage Status and Stroke Probable Dependent\n"
     ]
    }
   ],
   "source": [
    "#create crosstab (testing)\n",
    "crosstab_6b = pd.crosstab(data['Marriage Status'], data['Stroke'])\n",
    "#perfrom chi - square test\n",
    "stat, p, dof, expected = chi2_contingency(crosstab_6b)\n",
    "print('stat=%.3f, p=%.3f' % (stat, p))\n",
    "if p > 0.05:\n",
    "    print('Marriage Status and Stroke Probable Independent')\n",
    "else:\n",
    "    print('Marriage Status and Stroke Probable Dependent')"
   ]
  },
  {
   "cell_type": "markdown",
   "metadata": {},
   "source": [
    "##### Hypertension"
   ]
  },
  {
   "cell_type": "code",
   "execution_count": 31,
   "metadata": {},
   "outputs": [
    {
     "name": "stdout",
     "output_type": "stream",
     "text": [
      "stat=135.200, p=0.000\n",
      "Hypertension & Work Type Probable Dependent\n"
     ]
    }
   ],
   "source": [
    "#create crosstab (testing)\n",
    "crosstab_2aa = pd.crosstab(data['Hypertension'], data['Work Type'])\n",
    "#perfrom chi - square test\n",
    "stat, p, dof, expected = chi2_contingency(crosstab_2aa)\n",
    "print('stat=%.3f, p=%.3f' % (stat, p))\n",
    "if p > 0.05:\n",
    "    print('Hypertension & Work Type Probable Independent')\n",
    "else:\n",
    "    print('Hypertension & Work Type Probable Dependent')"
   ]
  },
  {
   "cell_type": "code",
   "execution_count": 32,
   "metadata": {},
   "outputs": [
    {
     "name": "stdout",
     "output_type": "stream",
     "text": [
      "stat=0.269, p=0.604\n",
      "Hypertension & Residence Type Probable Independent\n"
     ]
    }
   ],
   "source": [
    "#create crosstab (testing)\n",
    "crosstab_3aa = pd.crosstab(data['Hypertension'], data['Residence Type'])\n",
    "#perfrom chi - square test\n",
    "stat, p, dof, expected = chi2_contingency(crosstab_3aa)\n",
    "print('stat=%.3f, p=%.3f' % (stat, p))\n",
    "if p > 0.05:\n",
    "    print('Hypertension & Residence Type Probable Independent')\n",
    "else:\n",
    "    print('Hypertension & Residence Type Probable Dependent')"
   ]
  },
  {
   "cell_type": "code",
   "execution_count": 34,
   "metadata": {},
   "outputs": [
    {
     "name": "stdout",
     "output_type": "stream",
     "text": [
      "stat=103.874, p=0.000\n",
      "Hypertension & Smoking Status Probable Dependent\n"
     ]
    }
   ],
   "source": [
    "#create crosstab (testing)\n",
    "crosstab_4aa = pd.crosstab(data['Hypertension'], data['Smoking Status'])\n",
    "#perfrom chi - square test\n",
    "stat, p, dof, expected = chi2_contingency(crosstab_4aa)\n",
    "print('stat=%.3f, p=%.3f' % (stat, p))\n",
    "if p > 0.05:\n",
    "    print('Hypertension & Smoking Status Probable Independent')\n",
    "else:\n",
    "    print('Hypertension & Smoking Status Probable Dependent')"
   ]
  },
  {
   "cell_type": "code",
   "execution_count": 35,
   "metadata": {},
   "outputs": [
    {
     "name": "stdout",
     "output_type": "stream",
     "text": [
      "stat=81.605, p=0.000\n",
      "Hypertension & Stroke Probable Dependent\n"
     ]
    }
   ],
   "source": [
    "#create crosstab (testing)\n",
    "crosstab_5aa = pd.crosstab(data['Hypertension'], data['Stroke'])\n",
    "#perfrom chi - square test\n",
    "stat, p, dof, expected = chi2_contingency(crosstab_5aa)\n",
    "print('stat=%.3f, p=%.3f' % (stat, p))\n",
    "if p > 0.05:\n",
    "    print('Hypertension & Stroke Probable Independent')\n",
    "else:\n",
    "    print('Hypertension & Stroke Probable Dependent')"
   ]
  },
  {
   "cell_type": "markdown",
   "metadata": {},
   "source": [
    "##### Work Type"
   ]
  },
  {
   "cell_type": "code",
   "execution_count": 36,
   "metadata": {},
   "outputs": [
    {
     "name": "stdout",
     "output_type": "stream",
     "text": [
      "stat=4.653, p=0.325\n",
      "Work Type & Residence Type Probable Independent\n"
     ]
    }
   ],
   "source": [
    "#create crosstab (testing)\n",
    "crosstab_1aaa = pd.crosstab(data['Work Type'], data['Residence Type'])\n",
    "#perfrom chi - square test\n",
    "stat, p, dof, expected = chi2_contingency(crosstab_1aaa)\n",
    "print('stat=%.3f, p=%.3f' % (stat, p))\n",
    "if p > 0.05:\n",
    "    print('Work Type & Residence Type Probable Independent')\n",
    "else:\n",
    "    print('Work Type & Residence Type Probable Dependent')"
   ]
  },
  {
   "cell_type": "code",
   "execution_count": 38,
   "metadata": {},
   "outputs": [
    {
     "name": "stdout",
     "output_type": "stream",
     "text": [
      "stat=1389.107, p=0.000\n",
      "Work Type & Smoking Status Probable Dependent\n"
     ]
    }
   ],
   "source": [
    "#create crosstab (testing)\n",
    "crosstab_2aaa = pd.crosstab(data['Work Type'], data['Smoking Status'])\n",
    "#perfrom chi - square test\n",
    "stat, p, dof, expected = chi2_contingency(crosstab_2aaa)\n",
    "print('stat=%.3f, p=%.3f' % (stat, p))\n",
    "if p > 0.05:\n",
    "    print('Work Type & Smoking Status Probable Independent')\n",
    "else:\n",
    "    print('Work Type & Smoking Status Probable Dependent')"
   ]
  },
  {
   "cell_type": "code",
   "execution_count": 40,
   "metadata": {},
   "outputs": [
    {
     "name": "stdout",
     "output_type": "stream",
     "text": [
      "stat=49.164, p=0.000\n",
      "Work Type & Stroke Probable Dependent\n"
     ]
    }
   ],
   "source": [
    "#create crosstab (testing)\n",
    "crosstab_3aaa = pd.crosstab(data['Work Type'], data['Stroke'])\n",
    "#perfrom chi - square test\n",
    "stat, p, dof, expected = chi2_contingency(crosstab_3aaa)\n",
    "print('stat=%.3f, p=%.3f' % (stat, p))\n",
    "if p > 0.05:\n",
    "    print('Work Type & Stroke Probable Independent')\n",
    "else:\n",
    "    print('Work Type & Stroke Probable Dependent')"
   ]
  },
  {
   "cell_type": "markdown",
   "metadata": {},
   "source": [
    "##### Smoking Status "
   ]
  },
  {
   "cell_type": "code",
   "execution_count": null,
   "metadata": {},
   "outputs": [],
   "source": []
  },
  {
   "cell_type": "markdown",
   "metadata": {},
   "source": [
    "##### Stroke"
   ]
  },
  {
   "cell_type": "code",
   "execution_count": null,
   "metadata": {},
   "outputs": [],
   "source": []
  }
 ],
 "metadata": {
  "kernelspec": {
   "display_name": "Python 3",
   "language": "python",
   "name": "python3"
  },
  "language_info": {
   "codemirror_mode": {
    "name": "ipython",
    "version": 3
   },
   "file_extension": ".py",
   "mimetype": "text/x-python",
   "name": "python",
   "nbconvert_exporter": "python",
   "pygments_lexer": "ipython3",
   "version": "3.8.3"
  }
 },
 "nbformat": 4,
 "nbformat_minor": 4
}
